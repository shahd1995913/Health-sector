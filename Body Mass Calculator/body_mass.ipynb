{
  "nbformat": 4,
  "nbformat_minor": 0,
  "metadata": {
    "colab": {
      "provenance": []
    },
    "kernelspec": {
      "name": "python3",
      "display_name": "Python 3"
    },
    "language_info": {
      "name": "python"
    }
  },
  "cells": [
    {
      "cell_type": "code",
      "execution_count": 2,
      "metadata": {
        "colab": {
          "base_uri": "https://localhost:8080/"
        },
        "id": "mMp6I_AXwr4m",
        "outputId": "41c0368e-ad5c-45d9-fd1a-0dd1b15d78ce"
      },
      "outputs": [
        {
          "output_type": "stream",
          "name": "stdout",
          "text": [
            "Enter your weight in kilograms: 80\n",
            "Enter your height in meters: 170\n",
            "Enter your gender (male/female): female\n",
            "Your BMI is: 0.002768166089965398\n",
            "Interpretation: Underweight for females\n"
          ]
        }
      ],
      "source": [
        "def calculate_bmi(weight, height):\n",
        "    \"\"\"\n",
        "    Calculates the Body Mass Index (BMI) given weight in kilograms and height in meters.\n",
        "    \"\"\"\n",
        "    bmi = weight / (height ** 2)\n",
        "    return bmi\n",
        "\n",
        "def interpret_bmi(bmi, gender):\n",
        "    \"\"\"\n",
        "    Interprets the BMI and provides corresponding information based on gender.\n",
        "    \"\"\"\n",
        "    if gender == \"male\":\n",
        "        if bmi < 18.5:\n",
        "            return \"Underweight for males\"\n",
        "        elif 18.5 <= bmi < 25:\n",
        "            return \"Normal weight for males\"\n",
        "        elif 25 <= bmi < 30:\n",
        "            return \"Overweight for males\"\n",
        "        else:\n",
        "            return \"Obese for males\"\n",
        "    elif gender == \"female\":\n",
        "        if bmi < 18.5:\n",
        "            return \"Underweight for females\"\n",
        "        elif 18.5 <= bmi < 25:\n",
        "            return \"Normal weight for females\"\n",
        "        elif 25 <= bmi < 30:\n",
        "            return \"Overweight for females\"\n",
        "        else:\n",
        "            return \"Obese for females\"\n",
        "    else:\n",
        "        return \"Invalid gender\"\n",
        "\n",
        "# Example usage\n",
        "weight = float(input(\"Enter your weight in kilograms: \"))\n",
        "height = float(input(\"Enter your height in meters: \"))\n",
        "gender = input(\"Enter your gender (male/female): \")\n",
        "\n",
        "bmi = calculate_bmi(weight, height)\n",
        "interpretation = interpret_bmi(bmi, gender)\n",
        "\n",
        "print(\"Your BMI is:\", bmi)\n",
        "print(\"Interpretation:\", interpretation)\n"
      ]
    },
    {
      "cell_type": "code",
      "source": [
        "def massbody():\n",
        "    h = float(input(\"Enter your height in centimeters: \"))\n",
        "    w = float(input(\"Enter your weight in kilograms: \"))\n",
        "    gender = input(\"Enter your gender: \")\n",
        "\n",
        "    BMI = round(w / ((h / 100) ** 2), 2)\n",
        "\n",
        "    if h <= 0 or h <= 10 or h > 300:\n",
        "        print(\"Please enter a valid height in the correct format.\")\n",
        "        return\n",
        "    if w <= 0 or w < 10 or w > 350:\n",
        "        print(\"Please enter a valid weight in the correct format.\")\n",
        "        return\n",
        "    if len(gender.strip()) == 0:\n",
        "        print(\"Please enter a valid gender.\")\n",
        "        return\n",
        "\n",
        "    if BMI <= 15:\n",
        "        print(\"You are suffering from starvation. This is a serious condition.\")\n",
        "    elif 15 < BMI <= 17.5:\n",
        "        print(\"You are suffering from severe starvation. There is a high possibility of heart diseases.\")\n",
        "    elif 17.5 < BMI <= 18.5:\n",
        "        print(\"You are underweight. There is a high possibility of heart diseases.\")\n",
        "    elif 18.5 < BMI <= 24.9:\n",
        "        print(\"You have an ideal weight. The risk of heart diseases is low. Maintain your weight.\")\n",
        "    elif 25 < BMI <= 25.9:\n",
        "        print(\"You are overweight. There is an increased risk of heart diseases.\")\n",
        "    elif 26 < BMI <= 29.9:\n",
        "        print(\"You are in the pre-obese range. There is an increased risk of heart diseases.\")\n",
        "    elif 30 <= BMI <= 34.9:\n",
        "        print(\"You are obese class I. There is a high risk of heart diseases.\")\n",
        "    elif 35 <= BMI <= 39.9:\n",
        "        print(\"You are obese class II. There is a very high risk of heart diseases.\")\n",
        "    elif BMI >= 40:\n",
        "        print(\"You are obese class III. This is a serious indicator of increased risk of heart diseases.\")\n",
        "\n",
        "massbody()\n"
      ],
      "metadata": {
        "colab": {
          "base_uri": "https://localhost:8080/"
        },
        "id": "y2RYSeJqxmh-",
        "outputId": "2902e620-4313-42cd-9d5c-91b0e58f2a82"
      },
      "execution_count": 11,
      "outputs": [
        {
          "output_type": "stream",
          "name": "stdout",
          "text": [
            "Enter your height in centimeters: 170\n",
            "Enter your weight in kilograms: 80\n",
            "Enter your gender: female\n",
            "You are in the pre-obese range. There is an increased risk of heart diseases.\n"
          ]
        }
      ]
    }
  ]
}